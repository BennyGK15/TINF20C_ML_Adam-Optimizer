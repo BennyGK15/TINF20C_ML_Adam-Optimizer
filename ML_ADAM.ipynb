{
  "nbformat": 4,
  "nbformat_minor": 0,
  "metadata": {
    "colab": {
      "provenance": [],
      "include_colab_link": true
    },
    "kernelspec": {
      "name": "python3",
      "display_name": "Python 3"
    },
    "language_info": {
      "name": "python"
    }
  },
  "cells": [
    {
      "cell_type": "markdown",
      "metadata": {
        "id": "view-in-github",
        "colab_type": "text"
      },
      "source": [
        "<a href=\"https://colab.research.google.com/github/BennyGK15/TINF20C_ML_Adam-Optimizer/blob/main/ML_ADAM.ipynb\" target=\"_parent\"><img src=\"https://colab.research.google.com/assets/colab-badge.svg\" alt=\"Open In Colab\"/></a>"
      ]
    },
    {
      "cell_type": "markdown",
      "source": [
        "Stochastische Optimierung: ADAM\n",
        "\n"
      ],
      "metadata": {
        "id": "mZUExlrZ2zyA"
      }
    },
    {
      "cell_type": "markdown",
      "source": [
        "Hallo, das ist ein Test. :)"
      ],
      "metadata": {
        "id": "bT3tdqjqGk8l"
      }
    }
  ]
}