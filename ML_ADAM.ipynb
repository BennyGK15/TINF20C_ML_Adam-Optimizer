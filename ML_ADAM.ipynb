{
  "cells": [
    {
      "cell_type": "markdown",
      "metadata": {
        "colab_type": "text",
        "id": "view-in-github"
      },
      "source": [
        "<a href=\"https://colab.research.google.com/github/BennyGK15/TINF20C_ML_Adam-Optimizer/blob/main/ML_ADAM.ipynb\" target=\"_parent\"><img src=\"https://colab.research.google.com/assets/colab-badge.svg\" alt=\"Open In Colab\"/></a>"
      ]
    },
    {
      "cell_type": "markdown",
      "metadata": {
        "id": "mZUExlrZ2zyA"
      },
      "source": [
        "Stochastische Optimierung: ADAM\n",
        "\n"
      ]
    },
    {
      "cell_type": "markdown",
      "metadata": {
        "id": "pmPCDfYTKLo7"
      },
      "source": [
        "Links:\n",
        "* https://github.com/mrhashemi/Optimizers/blob/main/adam_bfgs_optimization.ipynb\n",
        "* https://towardsdatascience.com/how-to-implement-an-adam-optimizer-from-scratch-76e7b217f1cc\n",
        "* https://pub.towardsai.net/why-adam-optimizer-should-not-be-the-default-learning-algorithm-a2b8d019eaa0\n",
        "* https://www.deeplearningwizard.com/deep_learning/boosting_models_pytorch/optimizers/#optimization-algorithm-4-adam\n",
        "* https://machinelearningmastery.com/adam-optimization-from-scratch/\n",
        "* https://github.com/theroyakash/Adam\n",
        "* https://youtu.be/6nqV58NA_Ew\n",
        "* https://optimization.cbe.cornell.edu/index.php?title=Adam\n",
        "* https://deepai.org/machine-learning-glossary-and-terms/adam-machine-learning\n",
        "* https://www.google.com/url?sa=t&rct=j&q=&esrc=s&source=web&cd=&ved=2ahUKEwiv3ve_lOf7AhUFG-wKHQZ1D7IQFnoECCkQAQ&url=https%3A%2F%2Farxiv.org%2Fpdf%2F1412.6980&usg=AOvVaw3A1FgD6VpF0vPpG6_b5gbf\n",
        "* https://keras.io/api/optimizers/\n",
        "* https://pythonguides.com/adam-optimizer-pytorch/\n",
        "* https://www.datarobot.com/blog/introduction-to-optimizers/"
      ]
    },
    {
      "cell_type": "markdown",
      "metadata": {
        "id": "gGSCXODy67Jl"
      },
      "source": [
        "Inhalt\n",
        "\n",
        "*   Was sind Optimizer und wofür werden diese eingesetzt?\n",
        "*   Erläuterung anhand anschaulicher Beispiele\n",
        "*   Effekte des Adam Optimizers\n",
        "*   Einsatzbereich\n",
        "*   Limitierungen\n",
        "*   Hinweis auf Alternativen und Abgrenzung\n",
        "*   Fazit\n",
        "*   Quellen\n",
        "\n"
      ]
    },
    {
      "cell_type": "code",
      "execution_count": null,
      "metadata": {
        "vscode": {
          "languageId": "plaintext"
        }
      },
      "outputs": [],
      "source": [
        "print(test)"
      ]
    }
  ],
  "metadata": {
    "colab": {
      "include_colab_link": true,
      "provenance": []
    },
    "kernelspec": {
      "display_name": "Python 3.9.13 64-bit (microsoft store)",
      "language": "python",
      "name": "python3"
    },
    "language_info": {
      "name": "python",
      "version": "3.9.13"
    },
    "vscode": {
      "interpreter": {
        "hash": "f5c0429a0d9fd873a8397b96bedc68a9c430b36d28cd38b0c4831aae494627fb"
      }
    }
  },
  "nbformat": 4,
  "nbformat_minor": 0
}
