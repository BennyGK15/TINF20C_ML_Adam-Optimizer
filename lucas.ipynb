{
 "cells": [
  {
   "attachments": {},
   "cell_type": "markdown",
   "metadata": {},
   "source": [
    "# Einsatzbereich\n",
    "Der Adam Optimierer wurde entwickelt, um neurale Netzwerke zu trainieren [Bushaev, 2018](https://towardsdatascience.com/adam-latest-trends-in-deep-learning-optimization-6be9a291375c). Adam kann zum Beispiel dafür verwendet werden, um Pixeländerungen an Bildern durchzuführen, ohne den Hashwert zu verändern. Struppek et al. [Struppek et al., 2022, S. 6f](https://arxiv.org/pdf/2111.06628.pdf) konten zeigen, das mit Adam Hash Kollisionen forciert oder vermieden werden können. Dadurch ist es unter anderem möglich kleine Änderungen an den Pixeln von Bildern vorzunehmen, ohne den Hash-Wert zu ändern. Apple verwendet den Hash-Wert von Bildern um Kinderpornografie in Bildern von Nutzern der iCloud zu identifizieren. Mit Hilfe von Optimierern, wie Adam, können Bilder manipuliert und Personen belastende Bilder untergeschoben werden, deren Hash-Wert mit einem Hash-Wert aus einer Child Sexual Abuse Material (CSAM) **Abkürzung übernehmen** Datenbank übereinstimmt [Struppek et al., 2022, S. 1](https://arxiv.org/pdf/2111.06628.pdf).\n",
    "\n",
    "Jais et al. [Jais et al., 2019, S. 1](http://journal2.um.ac.id/index.php/keds/article/view/6775/0) konnten zeigen, das Adam in tiefen und weiten neuronalen Netzwerken verwendet werden, um deren Leistung zu verbessern. Als Grundlage für das tiefe und weite neuronale Netzwerk wurden Daten zu Brustkrebs verwendet. Diese wurden korelliert, um Muster im Datensatz zu erkennen. Daraufhin wurde mit den Daten das tiefe und weite neuronale Netzwerk trainiert. Der Trainingsprozess wurde mit Adam optimiert [Jais et al., 2019, S. 43f.](http://journal2.um.ac.id/index.php/keds/article/view/6775/0)."
   ]
  }
 ],
 "metadata": {
  "kernelspec": {
   "display_name": "Python 3",
   "language": "python",
   "name": "python3"
  },
  "language_info": {
   "codemirror_mode": {
    "name": "ipython",
    "version": 3
   },
   "file_extension": ".py",
   "mimetype": "text/x-python",
   "name": "python",
   "nbconvert_exporter": "python",
   "pygments_lexer": "ipython3",
   "version": "3.10.8"
  },
  "orig_nbformat": 4,
  "vscode": {
   "interpreter": {
    "hash": "369f2c481f4da34e4445cda3fffd2e751bd1c4d706f27375911949ba6bb62e1c"
   }
  }
 },
 "nbformat": 4,
 "nbformat_minor": 2
}
